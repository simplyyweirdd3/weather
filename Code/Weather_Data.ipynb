{
 "cells": [
  {
   "cell_type": "markdown",
   "id": "1c38c2b1-0044-4609-80d4-549ceadcf4d6",
   "metadata": {},
   "source": [
    "# Seattle vs New Orleans — Precipitation Comparison (2018–2022)\n",
    "\n",
    "**Author:** Ruman Sidhu  \n",
    "**Purpose:** Use data science steps to answer whether it rains more in Seattle, WA than in New Orleans, LA (2018–2022).  \n",
    "This notebook contains data inspection, cleaning, tidy data creation, analysis, and visualizations."
   ]
  },
  {
   "cell_type": "markdown",
   "id": "58fd8fa1-a635-4dfc-be40-b0c86c2d3349",
   "metadata": {},
   "source": [
    "# Introduction\n",
    "\n",
    "The goal of this project is to use data science methods to determine whether it rains more in Seattle, WA or New Orleans, LA between 2018 and 2022. This analysis includes inspecting, cleaning, and transforming precipitation data from both cities, followed by visual comparisons. Seattle is known for its frequent drizzle, while New Orleans experiences heavier but less frequent rain, so comparing their total precipitation offers an interesting perspective on how perception differs from data."
   ]
  },
  {
   "cell_type": "markdown",
   "id": "ed06aa75-440a-4bbc-a1ad-4c2f89f357f5",
   "metadata": {},
   "source": [
    "# Data\n",
    "\n",
    "- `data/seattle_rain.csv` — Seattle daily precipitation data  \n",
    "  Source: [Seattle Weather Dataset – DATA 5100 Course GitHub Repository](https://github.com/bfischer/data5100-weather)  \n",
    "\n",
    "- `data/neworleans_rain.csv` — New Orleans daily precipitation data  \n",
    "  Source: [NOAA Climate Data Online (CDO) – New Orleans, LA Station ID: USW00012916](https://www.ncei.noaa.gov/cdo-web/datasets/GHCND/stations/GHCND:USW00012916)  \n"
   ]
  },
  {
   "cell_type": "code",
   "execution_count": 3,
   "id": "591d42a8-387f-4721-89d8-5b04001673c4",
   "metadata": {},
   "outputs": [
    {
     "name": "stdout",
     "output_type": "stream",
     "text": [
      "Data files expected at: ..\\Data\\seattle_rain.csv and ..\\Data\\neworleans_rain.csv\n"
     ]
    }
   ],
   "source": [
    "# Libraries and file paths\n",
    "import os, pandas as pd, numpy as np, matplotlib.pyplot as plt\n",
    "plt.rcParams.update({'font.size':12})\n",
    "\n",
    "DATA_DIR = os.path.join(\"..\",\"Data\")\n",
    "SEATTLE_FPATH = os.path.join(DATA_DIR, \"seattle_rain.csv\")\n",
    "NO_FPATH = os.path.join(DATA_DIR, \"neworleans_rain.csv\")\n",
    "\n",
    "print(\"Data files expected at:\", SEATTLE_FPATH, \"and\", NO_FPATH)"
   ]
  },
  {
   "cell_type": "markdown",
   "id": "dd78c8a1-a922-4e44-8aba-7d0097d7a8d0",
   "metadata": {},
   "source": [
    "# Inspect the contents of each dataset\n",
    "\n",
    "Below we load both CSV files and inspect columns, first rows, and missing-value counts so we know what needs cleaning."
   ]
  },
  {
   "cell_type": "code",
   "execution_count": 6,
   "id": "765a7b31-bd01-47ce-a154-57cd016e4efb",
   "metadata": {},
   "outputs": [
    {
     "name": "stdout",
     "output_type": "stream",
     "text": [
      "Seattle shape: (1658, 10)\n",
      "New Orleans shape: (1826, 6)\n",
      "\n",
      "Seattle columns: ['STATION', 'NAME', 'DATE', 'DAPR', 'MDPR', 'PRCP', 'SNOW', 'SNWD', 'WESD', 'WESF']\n",
      "\n",
      "New Orleans columns: ['STATION', 'NAME', 'DATE', 'PRCP', 'SNOW', 'SNWD']\n"
     ]
    },
    {
     "data": {
      "text/html": [
       "<div>\n",
       "<style scoped>\n",
       "    .dataframe tbody tr th:only-of-type {\n",
       "        vertical-align: middle;\n",
       "    }\n",
       "\n",
       "    .dataframe tbody tr th {\n",
       "        vertical-align: top;\n",
       "    }\n",
       "\n",
       "    .dataframe thead th {\n",
       "        text-align: right;\n",
       "    }\n",
       "</style>\n",
       "<table border=\"1\" class=\"dataframe\">\n",
       "  <thead>\n",
       "    <tr style=\"text-align: right;\">\n",
       "      <th></th>\n",
       "      <th>STATION</th>\n",
       "      <th>NAME</th>\n",
       "      <th>DATE</th>\n",
       "      <th>DAPR</th>\n",
       "      <th>MDPR</th>\n",
       "      <th>PRCP</th>\n",
       "      <th>SNOW</th>\n",
       "      <th>SNWD</th>\n",
       "      <th>WESD</th>\n",
       "      <th>WESF</th>\n",
       "    </tr>\n",
       "  </thead>\n",
       "  <tbody>\n",
       "    <tr>\n",
       "      <th>0</th>\n",
       "      <td>US1WAKG0225</td>\n",
       "      <td>SEATTLE 2.1 ESE, WA US</td>\n",
       "      <td>1/1/18</td>\n",
       "      <td>NaN</td>\n",
       "      <td>NaN</td>\n",
       "      <td>0.00</td>\n",
       "      <td>NaN</td>\n",
       "      <td>NaN</td>\n",
       "      <td>NaN</td>\n",
       "      <td>NaN</td>\n",
       "    </tr>\n",
       "    <tr>\n",
       "      <th>1</th>\n",
       "      <td>US1WAKG0225</td>\n",
       "      <td>SEATTLE 2.1 ESE, WA US</td>\n",
       "      <td>1/2/18</td>\n",
       "      <td>NaN</td>\n",
       "      <td>NaN</td>\n",
       "      <td>0.00</td>\n",
       "      <td>NaN</td>\n",
       "      <td>NaN</td>\n",
       "      <td>NaN</td>\n",
       "      <td>NaN</td>\n",
       "    </tr>\n",
       "    <tr>\n",
       "      <th>2</th>\n",
       "      <td>US1WAKG0225</td>\n",
       "      <td>SEATTLE 2.1 ESE, WA US</td>\n",
       "      <td>1/3/18</td>\n",
       "      <td>NaN</td>\n",
       "      <td>NaN</td>\n",
       "      <td>0.00</td>\n",
       "      <td>NaN</td>\n",
       "      <td>NaN</td>\n",
       "      <td>NaN</td>\n",
       "      <td>NaN</td>\n",
       "    </tr>\n",
       "    <tr>\n",
       "      <th>3</th>\n",
       "      <td>US1WAKG0225</td>\n",
       "      <td>SEATTLE 2.1 ESE, WA US</td>\n",
       "      <td>1/4/18</td>\n",
       "      <td>NaN</td>\n",
       "      <td>NaN</td>\n",
       "      <td>0.00</td>\n",
       "      <td>NaN</td>\n",
       "      <td>NaN</td>\n",
       "      <td>NaN</td>\n",
       "      <td>NaN</td>\n",
       "    </tr>\n",
       "    <tr>\n",
       "      <th>4</th>\n",
       "      <td>US1WAKG0225</td>\n",
       "      <td>SEATTLE 2.1 ESE, WA US</td>\n",
       "      <td>1/5/18</td>\n",
       "      <td>NaN</td>\n",
       "      <td>NaN</td>\n",
       "      <td>0.25</td>\n",
       "      <td>NaN</td>\n",
       "      <td>NaN</td>\n",
       "      <td>NaN</td>\n",
       "      <td>NaN</td>\n",
       "    </tr>\n",
       "  </tbody>\n",
       "</table>\n",
       "</div>"
      ],
      "text/plain": [
       "       STATION                    NAME    DATE  DAPR  MDPR  PRCP  SNOW  SNWD  \\\n",
       "0  US1WAKG0225  SEATTLE 2.1 ESE, WA US  1/1/18   NaN   NaN  0.00   NaN   NaN   \n",
       "1  US1WAKG0225  SEATTLE 2.1 ESE, WA US  1/2/18   NaN   NaN  0.00   NaN   NaN   \n",
       "2  US1WAKG0225  SEATTLE 2.1 ESE, WA US  1/3/18   NaN   NaN  0.00   NaN   NaN   \n",
       "3  US1WAKG0225  SEATTLE 2.1 ESE, WA US  1/4/18   NaN   NaN  0.00   NaN   NaN   \n",
       "4  US1WAKG0225  SEATTLE 2.1 ESE, WA US  1/5/18   NaN   NaN  0.25   NaN   NaN   \n",
       "\n",
       "   WESD  WESF  \n",
       "0   NaN   NaN  \n",
       "1   NaN   NaN  \n",
       "2   NaN   NaN  \n",
       "3   NaN   NaN  \n",
       "4   NaN   NaN  "
      ]
     },
     "metadata": {},
     "output_type": "display_data"
    },
    {
     "data": {
      "text/html": [
       "<div>\n",
       "<style scoped>\n",
       "    .dataframe tbody tr th:only-of-type {\n",
       "        vertical-align: middle;\n",
       "    }\n",
       "\n",
       "    .dataframe tbody tr th {\n",
       "        vertical-align: top;\n",
       "    }\n",
       "\n",
       "    .dataframe thead th {\n",
       "        text-align: right;\n",
       "    }\n",
       "</style>\n",
       "<table border=\"1\" class=\"dataframe\">\n",
       "  <thead>\n",
       "    <tr style=\"text-align: right;\">\n",
       "      <th></th>\n",
       "      <th>STATION</th>\n",
       "      <th>NAME</th>\n",
       "      <th>DATE</th>\n",
       "      <th>PRCP</th>\n",
       "      <th>SNOW</th>\n",
       "      <th>SNWD</th>\n",
       "    </tr>\n",
       "  </thead>\n",
       "  <tbody>\n",
       "    <tr>\n",
       "      <th>0</th>\n",
       "      <td>USW00012916</td>\n",
       "      <td>NEW ORLEANS AIRPORT, LA US</td>\n",
       "      <td>2018-01-01</td>\n",
       "      <td>0.0</td>\n",
       "      <td>NaN</td>\n",
       "      <td>NaN</td>\n",
       "    </tr>\n",
       "    <tr>\n",
       "      <th>1</th>\n",
       "      <td>USW00012916</td>\n",
       "      <td>NEW ORLEANS AIRPORT, LA US</td>\n",
       "      <td>2018-01-02</td>\n",
       "      <td>0.0</td>\n",
       "      <td>NaN</td>\n",
       "      <td>NaN</td>\n",
       "    </tr>\n",
       "    <tr>\n",
       "      <th>2</th>\n",
       "      <td>USW00012916</td>\n",
       "      <td>NEW ORLEANS AIRPORT, LA US</td>\n",
       "      <td>2018-01-03</td>\n",
       "      <td>0.0</td>\n",
       "      <td>NaN</td>\n",
       "      <td>NaN</td>\n",
       "    </tr>\n",
       "    <tr>\n",
       "      <th>3</th>\n",
       "      <td>USW00012916</td>\n",
       "      <td>NEW ORLEANS AIRPORT, LA US</td>\n",
       "      <td>2018-01-04</td>\n",
       "      <td>0.0</td>\n",
       "      <td>NaN</td>\n",
       "      <td>NaN</td>\n",
       "    </tr>\n",
       "    <tr>\n",
       "      <th>4</th>\n",
       "      <td>USW00012916</td>\n",
       "      <td>NEW ORLEANS AIRPORT, LA US</td>\n",
       "      <td>2018-01-05</td>\n",
       "      <td>0.0</td>\n",
       "      <td>NaN</td>\n",
       "      <td>NaN</td>\n",
       "    </tr>\n",
       "  </tbody>\n",
       "</table>\n",
       "</div>"
      ],
      "text/plain": [
       "       STATION                        NAME        DATE  PRCP  SNOW  SNWD\n",
       "0  USW00012916  NEW ORLEANS AIRPORT, LA US  2018-01-01   0.0   NaN   NaN\n",
       "1  USW00012916  NEW ORLEANS AIRPORT, LA US  2018-01-02   0.0   NaN   NaN\n",
       "2  USW00012916  NEW ORLEANS AIRPORT, LA US  2018-01-03   0.0   NaN   NaN\n",
       "3  USW00012916  NEW ORLEANS AIRPORT, LA US  2018-01-04   0.0   NaN   NaN\n",
       "4  USW00012916  NEW ORLEANS AIRPORT, LA US  2018-01-05   0.0   NaN   NaN"
      ]
     },
     "metadata": {},
     "output_type": "display_data"
    },
    {
     "name": "stdout",
     "output_type": "stream",
     "text": [
      "\n",
      "Seattle missing counts:\n",
      " STATION       0\n",
      "NAME          0\n",
      "DATE          0\n",
      "DAPR       1635\n",
      "MDPR       1635\n",
      "PRCP         22\n",
      "SNOW       1305\n",
      "SNWD       1592\n",
      "WESD       1643\n",
      "WESF       1630\n",
      "dtype: int64\n",
      "\n",
      "New Orleans missing counts:\n",
      " STATION       0\n",
      "NAME          0\n",
      "DATE          0\n",
      "PRCP          2\n",
      "SNOW       1826\n",
      "SNWD       1826\n",
      "dtype: int64\n"
     ]
    }
   ],
   "source": [
    "# Load data (this will error if names/paths are wrong — adjust file names if needed)\n",
    "seattle = pd.read_csv(SEATTLE_FPATH)\n",
    "neworleans = pd.read_csv(NO_FPATH)\n",
    "\n",
    "print(\"Seattle shape:\", seattle.shape)\n",
    "print(\"New Orleans shape:\", neworleans.shape)\n",
    "print(\"\\nSeattle columns:\", list(seattle.columns))\n",
    "print(\"\\nNew Orleans columns:\", list(neworleans.columns))\n",
    "\n",
    "display(seattle.head())\n",
    "display(neworleans.head())\n",
    "\n",
    "print(\"\\nSeattle missing counts:\\n\", seattle.isnull().sum())\n",
    "print(\"\\nNew Orleans missing counts:\\n\", neworleans.isnull().sum())"
   ]
  },
  {
   "cell_type": "markdown",
   "id": "b28f9911-561d-41c7-94a2-37db7f09a83a",
   "metadata": {},
   "source": [
    "When I inspected both datasets, I noticed that the Seattle file includes columns such as DATE, PRCP, SNOW, and SNWD, while the New Orleans file has similar precipitation data with DATE and PRCP as the key columns. The DATE column is currently stored as a string, so I will need to convert it into a datetime format before doing any analysis. The PRCP column represents the daily precipitation, which is the main variable of interest for comparing rainfall between cities. There are also a few missing or NaN values, but overall the datasets appear clean and well-structured for analysis. This initial inspection helps confirm that I can focus on daily precipitation and use the date to group and compare totals by year later."
   ]
  },
  {
   "cell_type": "markdown",
   "id": "42323ad6-d960-437a-baca-fb52ff257462",
   "metadata": {},
   "source": [
    "# Cleaning and formatting\n",
    "\n",
    "This section will: parse dates, standardise column names, filter to 2018–2022, drop duplicates, and prepare a tidy dataframe."
   ]
  },
  {
   "cell_type": "code",
   "execution_count": 10,
   "id": "bab4fbe7-35bc-4d2d-8e7a-ad1265f7a6f2",
   "metadata": {},
   "outputs": [
    {
     "name": "stderr",
     "output_type": "stream",
     "text": [
      "C:\\Users\\Asus\\AppData\\Local\\Temp\\ipykernel_5624\\3509802130.py:7: UserWarning: Could not infer format, so each element will be parsed individually, falling back to `dateutil`. To ensure parsing is consistent and as-expected, please specify a format.\n",
      "  seattle['date'] = pd.to_datetime(seattle['DATE'], errors='coerce')\n"
     ]
    },
    {
     "name": "stdout",
     "output_type": "stream",
     "text": [
      "After filter: Seattle (1658, 12) New Orleans (1826, 8)\n"
     ]
    }
   ],
   "source": [
    "# Find date and precipitation columns, parse dates, create Year column\n",
    "# Adjust column names below if your CSV uses different names (the previous cell printed them)\n",
    "seattle.columns = seattle.columns.str.strip()\n",
    "neworleans.columns = neworleans.columns.str.strip()\n",
    "\n",
    "# replace 'DATE' and 'PRCP' with whatever your files printed earlier if different\n",
    "seattle['date'] = pd.to_datetime(seattle['DATE'], errors='coerce')\n",
    "neworleans['date'] = pd.to_datetime(neworleans['DATE'], errors='coerce')\n",
    "\n",
    "seattle['precip_raw'] = pd.to_numeric(seattle['PRCP'], errors='coerce')\n",
    "neworleans['precip_raw'] = pd.to_numeric(neworleans['PRCP'], errors='coerce')\n",
    "\n",
    "# filter to 2018-01-01 through 2022-12-31\n",
    "start = pd.Timestamp('2018-01-01'); end = pd.Timestamp('2022-12-31')\n",
    "seattle = seattle[(seattle['date'] >= start) & (seattle['date'] <= end)].copy()\n",
    "neworleans = neworleans[(neworleans['date'] >= start) & (neworleans['date'] <= end)].copy()\n",
    "\n",
    "# drop duplicates\n",
    "seattle = seattle.drop_duplicates(subset=['date'])\n",
    "neworleans = neworleans.drop_duplicates(subset=['date'])\n",
    "\n",
    "# quick check\n",
    "print(\"After filter: Seattle\", seattle.shape, \"New Orleans\", neworleans.shape)"
   ]
  },
  {
   "cell_type": "markdown",
   "id": "74f0945e-9fb4-416a-9e76-7f83c5963aa6",
   "metadata": {},
   "source": [
    "Before analyzing the data, I cleaned and standardized both datasets to ensure they could be compared directly. This included keeping only the date and precipitation columns, renaming them for clarity, and making sure the date column was in datetime format. I also removed duplicate entries and restricted the data to the 2018–2022 range to maintain consistency across both cities."
   ]
  },
  {
   "cell_type": "code",
   "execution_count": 13,
   "id": "a577155d-f6ee-49e7-83e1-4dbf38f368ed",
   "metadata": {},
   "outputs": [
    {
     "name": "stdout",
     "output_type": "stream",
     "text": [
      "Seattle cleaned: (1658, 2)\n",
      "New Orleans cleaned: (1826, 2)\n"
     ]
    },
    {
     "data": {
      "text/plain": [
       "(        date  seattle_precip\n",
       " 0 2018-01-01            0.00\n",
       " 1 2018-01-02            0.00\n",
       " 2 2018-01-03            0.00\n",
       " 3 2018-01-04            0.00\n",
       " 4 2018-01-05            0.25,\n",
       "         date  neworleans_precip\n",
       " 0 2018-01-01                0.0\n",
       " 1 2018-01-02                0.0\n",
       " 2 2018-01-03                0.0\n",
       " 3 2018-01-04                0.0\n",
       " 4 2018-01-05                0.0)"
      ]
     },
     "execution_count": 13,
     "metadata": {},
     "output_type": "execute_result"
    }
   ],
   "source": [
    "# Keep only necessary columns\n",
    "seattle_clean = seattle[['date', 'precip_raw']].copy()\n",
    "neworleans_clean = neworleans[['date', 'precip_raw']].copy()\n",
    "\n",
    "# Rename columns for clarity\n",
    "seattle_clean.columns = ['date', 'seattle_precip']\n",
    "neworleans_clean.columns = ['date', 'neworleans_precip']\n",
    "\n",
    "# Check results\n",
    "print(\"Seattle cleaned:\", seattle_clean.shape)\n",
    "print(\"New Orleans cleaned:\", neworleans_clean.shape)\n",
    "seattle_clean.head(), neworleans_clean.head()"
   ]
  },
  {
   "cell_type": "markdown",
   "id": "96fce8d9-4452-4952-9305-9a856bef4fd9",
   "metadata": {},
   "source": [
    "After cleaning, both datasets now contain only the date and precipitation columns, which simplifies the comparison between Seattle and New Orleans. The column names were standardized to be lowercase and descriptive. This structure makes it easier to merge the two datasets and perform calculations on the precipitation data for each city."
   ]
  },
  {
   "cell_type": "markdown",
   "id": "41e5a990-ed2c-472b-817d-eb7095f3e24d",
   "metadata": {},
   "source": [
    "# Tidy dataframe and derived variables\n",
    "We will make a tidy table with one row per date & city, standardized units (mm), and derived columns: year, month, rainy_day."
   ]
  },
  {
   "cell_type": "code",
   "execution_count": 17,
   "id": "27a13656-0540-4789-a22c-77b93f9248a2",
   "metadata": {},
   "outputs": [
    {
     "name": "stdout",
     "output_type": "stream",
     "text": [
      "Saved clean tidy data to Data/clean_precipitation_sea_no.csv\n"
     ]
    }
   ],
   "source": [
    "# Build tidy frames\n",
    "sea = seattle[['date','precip_raw']].rename(columns={'precip_raw':'precip'})\n",
    "no = neworleans[['date','precip_raw']].rename(columns={'precip_raw':'precip'})\n",
    "\n",
    "# example unit conversion check -- adjust if your data is already mm\n",
    "# If values appear small (like mean <100), they might be inches -> convert to mm\n",
    "if sea['precip'].mean() < 100:\n",
    "    sea['precip_mm'] = sea['precip'] * 25.4\n",
    "else:\n",
    "    sea['precip_mm'] = sea['precip']\n",
    "\n",
    "if no['precip'].mean() < 100:\n",
    "    no['precip_mm'] = no['precip'] * 25.4\n",
    "else:\n",
    "    no['precip_mm'] = no['precip']\n",
    "\n",
    "# derived cols\n",
    "for df, name in [(sea,'Seattle'), (no,'New Orleans')]:\n",
    "    df['year'] = df['date'].dt.year\n",
    "    df['month'] = df['date'].dt.month\n",
    "    df['rainy_day'] = (df['precip_mm'] > 0).astype(int)\n",
    "    df['city'] = name\n",
    "\n",
    "tidy = pd.concat([sea[['date','city','precip_mm','rainy_day','year','month']],\n",
    "                   no[['date','city','precip_mm','rainy_day','year','month']]], ignore_index=True)\n",
    "tidy = tidy.sort_values(['city','date']).reset_index(drop=True)\n",
    "tidy.to_csv(os.path.join(DATA_DIR, \"clean_precipitation_sea_no.csv\"), index=False)\n",
    "print(\"Saved clean tidy data to Data/clean_precipitation_sea_no.csv\")"
   ]
  },
  {
   "cell_type": "markdown",
   "id": "fb72cf42-48de-4500-9393-5d864f5b50e0",
   "metadata": {},
   "source": [
    "The joined dataset now contains precipitation data for both Seattle and New Orleans in a single, tidy format. Each row represents a single date with the corresponding precipitation measurement and city label. The final dataframe has X rows and includes the columns date, city, precip_mm, rainy_day, year, and month.\n",
    "This structure makes it easier to compare daily or yearly precipitation totals between the two cities and supports visualizations like line and bar graphs. Having the data in long format ensures that each variable has its own column and each observation is in its own row, following good data science practices."
   ]
  },
  {
   "cell_type": "markdown",
   "id": "cd177fa6-b2a0-4721-a576-ccfe888cfc48",
   "metadata": {},
   "source": [
    "# Annual totals: grouped bar chart\n",
    "This chart compares annual total precipitation (mm) between Seattle and New Orleans (2018–2022)."
   ]
  },
  {
   "cell_type": "code",
   "execution_count": 21,
   "id": "b2d0923f-f8de-4c80-a308-c1777b302c87",
   "metadata": {},
   "outputs": [
    {
     "name": "stdout",
     "output_type": "stream",
     "text": [
      "Saved plot to ..\\Reports\\annual_totals_sea_no_barchart.png\n"
     ]
    },
    {
     "data": {
      "image/png": "[encoded data removed]",
      "text/plain": [
       "<Figure size 1000x600 with 1 Axes>"
      ]
     },
     "metadata": {},
     "output_type": "display_data"
    }
   ],
   "source": [
    "import matplotlib.pyplot as plt\n",
    "reports_dir = os.path.join(\"..\",\"Reports\")\n",
    "os.makedirs(reports_dir, exist_ok=True)\n",
    "\n",
    "summary = tidy.groupby(['city','year']).precip_mm.sum().reset_index()\n",
    "sea_s = summary[summary['city']=='Seattle'].sort_values('year')\n",
    "no_s  = summary[summary['city']=='New Orleans'].sort_values('year')\n",
    "\n",
    "years = sea_s['year'].tolist()\n",
    "x = np.arange(len(years))\n",
    "width = 0.35\n",
    "\n",
    "sea_vals = sea_s['precip_mm'].values\n",
    "no_vals  = no_s['precip_mm'].values\n",
    "\n",
    "fig, ax = plt.subplots(figsize=(10,6))\n",
    "ax.bar(x - width/2, sea_vals, width, label='Seattle', color='#17becf', edgecolor='k')\n",
    "ax.bar(x + width/2, no_vals,  width, label='New Orleans', color='#e377c2', edgecolor='k')\n",
    "\n",
    "ax.set_xticks(x); ax.set_xticklabels(years, rotation=30)\n",
    "ax.set_xlabel('Year'); ax.set_ylabel('Annual precipitation (mm)')\n",
    "ax.set_title('Seattle vs New Orleans — Annual totals (2018–2022)')\n",
    "ax.legend(); plt.tight_layout()\n",
    "\n",
    "out = os.path.join(reports_dir, \"annual_totals_sea_no_barchart.png\")\n",
    "plt.savefig(out, dpi=300)\n",
    "print(\"Saved plot to\", out)\n",
    "plt.show()"
   ]
  },
  {
   "cell_type": "markdown",
   "id": "696e8bf9-5779-49ab-ad7d-0d92a40d503c",
   "metadata": {},
   "source": [
    "Now that both datasets have been cleaned and standardized, the next step is to combine them into a single dataframe. Joining the Seattle and New Orleans data allows me to compare rainfall on the same dates across both cities. I’ll merge the datasets based on their shared date column and organize them into a tidy, or “long,” format where each row represents a unique observation of daily precipitation for one city. This format will make it easier to calculate yearly totals, averages, and create clear visual comparisons later."
   ]
  },
  {
   "cell_type": "markdown",
   "id": "a5d7c716-cf67-48b1-bfc1-dd526327b507",
   "metadata": {},
   "source": [
    "# Limitations and Discussion\n",
    "\n",
    "This analysis used one NOAA weather station per city, which may not capture the full variation in rainfall across different areas of Seattle or New Orleans. Another limitation is that only precipitation totals were compared, factors like duration, frequency, or intensity of rainfall were not analyzed. Missing or zero values in some days might slightly affect yearly totals, though overall trends are reliable. Future improvements could include adding multiple stations per city and analysing rainy-day frequency in more detail."
   ]
  },
  {
   "cell_type": "markdown",
   "id": "22b57aa5-00a7-4ba8-9424-84ce89989eea",
   "metadata": {},
   "source": [
    "# Conclusion\n",
    "\n",
    "Based on the data from 2018 to 2022, New Orleans consistently received higher total annual precipitation than Seattle. This supports the idea that although Seattle is known for frequent drizzle, New Orleans experiences heavier rainfall overall. Through this analysis, I was able to apply the full data science process from data collection and cleaning to visualisation and interpretation to answer a meaningful real-world question."
   ]
  }
 ],
 "metadata": {
  "kernelspec": {
   "display_name": "Python [conda env:base] *",
   "language": "python",
   "name": "conda-base-py"
  },
  "language_info": {
   "codemirror_mode": {
    "name": "ipython",
    "version": 3
   },
   "file_extension": ".py",
   "mimetype": "text/x-python",
   "name": "python",
   "nbconvert_exporter": "python",
   "pygments_lexer": "ipython3",
   "version": "3.12.7"
  }
 },
 "nbformat": 4,
 "nbformat_minor": 5
}
