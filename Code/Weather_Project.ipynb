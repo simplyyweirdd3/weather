{
 "cells": [
  {
   "cell_type": "code",
   "execution_count": 10,
   "id": "b70c0c56-7ddc-4240-ad25-3474c34d7882",
   "metadata": {},
   "outputs": [
    {
     "name": "stdout",
     "output_type": "stream",
     "text": [
      "Seattle:        STATION                    NAME    DATE  DAPR  MDPR  PRCP  SNOW  SNWD  \\\n",
      "0  US1WAKG0225  SEATTLE 2.1 ESE, WA US  1/1/18   NaN   NaN  0.00   NaN   NaN   \n",
      "1  US1WAKG0225  SEATTLE 2.1 ESE, WA US  1/2/18   NaN   NaN  0.00   NaN   NaN   \n",
      "2  US1WAKG0225  SEATTLE 2.1 ESE, WA US  1/3/18   NaN   NaN  0.00   NaN   NaN   \n",
      "3  US1WAKG0225  SEATTLE 2.1 ESE, WA US  1/4/18   NaN   NaN  0.00   NaN   NaN   \n",
      "4  US1WAKG0225  SEATTLE 2.1 ESE, WA US  1/5/18   NaN   NaN  0.25   NaN   NaN   \n",
      "\n",
      "   WESD  WESF  \n",
      "0   NaN   NaN  \n",
      "1   NaN   NaN  \n",
      "2   NaN   NaN  \n",
      "3   NaN   NaN  \n",
      "4   NaN   NaN  \n",
      "St. Louis:        STATION                       NAME        DATE  DAPR  MDPR  PRCP  SNOW  \\\n",
      "0  US1MOSS0027  ST. CHARLES 2.3 NE, MO US  2017-01-01   NaN   NaN  0.00   0.0   \n",
      "1  US1MOSS0027  ST. CHARLES 2.3 NE, MO US  2017-01-03   NaN   NaN  0.35   NaN   \n",
      "2  US1MOSS0027  ST. CHARLES 2.3 NE, MO US  2017-01-04   NaN   NaN  0.03   NaN   \n",
      "3  US1MOSS0027  ST. CHARLES 2.3 NE, MO US  2017-01-05   NaN   NaN  0.04   1.2   \n",
      "4  US1MOSS0027  ST. CHARLES 2.3 NE, MO US  2017-01-06   NaN   NaN  0.00   0.0   \n",
      "\n",
      "   SNWD  \n",
      "0   NaN  \n",
      "1   NaN  \n",
      "2   NaN  \n",
      "3   NaN  \n",
      "4   1.0  \n",
      "Mumbai:    Year        Jan       Feb        Mar     April         May        June  \\\n",
      "0  1901  13.116602  0.000000   0.000000  3.949669   17.139791  640.714036   \n",
      "1  1902   0.000000  0.000000   0.000000  0.000000    0.355001  247.998782   \n",
      "2  1903   0.000000  0.000000   0.844034  0.000000  220.568740  370.849048   \n",
      "3  1904   0.000000  0.000000  11.381769  0.000000    0.000000  723.081969   \n",
      "4  1905   0.662561  1.713452   0.000000  0.000000    0.000000  123.870892   \n",
      "\n",
      "         July         Aug        Sept         Oct        Nov        Dec  \\\n",
      "0  888.369692  545.045796   64.271513    9.871696   0.000000   0.000000   \n",
      "1  408.433730  566.595863  688.913455   28.654092   0.488864  19.526547   \n",
      "2  902.447896  602.420828  264.589816  157.892877   0.000000   0.000000   \n",
      "3  390.886799  191.581927   85.704754   38.679948   0.000000   0.000000   \n",
      "4  581.827975  167.382149  172.297723    7.365924  24.903575   0.000000   \n",
      "\n",
      "         Total  \n",
      "0  2182.478796  \n",
      "1  1960.966334  \n",
      "2  2519.613240  \n",
      "3  1441.317168  \n",
      "4  1080.024250  \n"
     ]
    }
   ],
   "source": [
    "import pandas as pd\n",
    "\n",
    "# Use full absolute paths\n",
    "seattle = pd.read_csv(r\"C:\\Users\\Asus\\OneDrive\\Seattle U\\Fall - 2025\\DATA 5100 02\\Week-1\\Weather\\Data\\seattle_rain.csv\")\n",
    "stl = pd.read_csv(r\"C:\\Users\\Asus\\OneDrive\\Seattle U\\Fall - 2025\\DATA 5100 02\\Week-1\\Weather\\Data\\stl_rain.csv\")\n",
    "mumbai = pd.read_csv(r\"C:\\Users\\Asus\\OneDrive\\Seattle U\\Fall - 2025\\DATA 5100 02\\Week-1\\Weather\\Data\\mumbai_rain.csv\")\n",
    "\n",
    "print(\"Seattle:\", seattle.head())\n",
    "print(\"St. Louis:\", stl.head())\n",
    "print(\"Mumbai:\", mumbai.head())"
   ]
  },
  {
   "cell_type": "code",
   "execution_count": null,
   "id": "543ddfdf-2c83-4567-8ff9-c51f83af789b",
   "metadata": {},
   "outputs": [],
   "source": [
    "print(\"Seattle columns:\", list(seattle.columns))\n",
    "print(\"St. Louis columns:\", list(stl.columns))"
   ]
  },
  {
   "cell_type": "code",
   "execution_count": null,
   "id": "bb1db18b-a852-4dc8-9114-577523f6fb66",
   "metadata": {},
   "outputs": [],
   "source": [
    "import pandas as pd\n",
    "import matplotlib.pyplot as plt\n",
    "\n",
    "# Reload the data normally\n",
    "seattle = pd.read_csv(r\"C:\\Users\\Asus\\OneDrive\\Seattle U\\Fall - 2025\\DATA 5100 02\\Week-1\\Weather\\Data\\seattle_rain.csv\")\n",
    "stl = pd.read_csv(r\"C:\\Users\\Asus\\OneDrive\\Seattle U\\Fall - 2025\\DATA 5100 02\\Week-1\\Weather\\Data\\stl_rain.csv\")\n",
    "mumbai = pd.read_csv(r\"C:\\Users\\Asus\\OneDrive\\Seattle U\\Fall - 2025\\DATA 5100 02\\Week-1\\Weather\\Data\\mumbai_rain.csv\")\n",
    "\n",
    "# Ensure DATE is read as string, then extract year\n",
    "seattle['Year'] = seattle['DATE'].astype(str).str[:4]\n",
    "stl['Year'] = stl['DATE'].astype(str).str[:4]\n",
    "\n",
    "# Group by Year and sum precipitation\n",
    "seattle_yearly = seattle.groupby('Year')['PRCP'].sum().reset_index()\n",
    "stl_yearly = stl.groupby('Year')['PRCP'].sum().reset_index()\n",
    "\n",
    "# Limit to 2018–2022\n",
    "seattle_yearly = seattle_yearly[(seattle_yearly['Year'] >= '2018') & (seattle_yearly['Year'] <= '2022')]\n",
    "stl_yearly = stl_yearly[(stl_yearly['Year'] >= '2018') & (stl_yearly['Year'] <= '2022')]\n",
    "mumbai_yearly = mumbai[(mumbai['Year'] >= 2018) & (mumbai['Year'] <= 2022)]\n",
    "\n",
    "# Plot\n",
    "plt.figure(figsize=(8,5))\n",
    "plt.plot(seattle_yearly['Year'], seattle_yearly['PRCP'], label='Seattle')\n",
    "plt.plot(stl_yearly['Year'], stl_yearly['PRCP'], label='St. Louis')\n",
    "plt.plot(mumbai_yearly['Year'], mumbai_yearly['Total'], label='Mumbai')\n",
    "plt.xlabel('Year')\n",
    "plt.ylabel('Total Rainfall')\n",
    "plt.title('Yearly Rainfall Comparison (2018–2022)')\n",
    "plt.legend()\n",
    "plt.show()\n"
   ]
  },
  {
   "cell_type": "code",
   "execution_count": null,
   "id": "b8665127-6f26-479d-ae79-6b11be6ec3da",
   "metadata": {},
   "outputs": [],
   "source": [
    "plt.savefig(r\"C:\\Users\\Asus\\OneDrive\\Seattle U\\Fall - 2025\\DATA 5100 02\\Week-1\\Weather\\reports\\rainfall_comparison.png\")"
   ]
  },
  {
   "cell_type": "code",
   "execution_count": null,
   "id": "600b667d-6233-4ad4-9ea0-a63594275d70",
   "metadata": {},
   "outputs": [],
   "source": [
    "plt.plot(seattle_yearly['Year'], seattle_yearly['PRCP'], marker='o', linestyle='-', label='Seattle')\n",
    "plt.plot(stl_yearly['Year'], stl_yearly['PRCP'], marker='s', linestyle='--', label='St. Louis')\n",
    "plt.plot(mumbai_yearly['Year'], mumbai_yearly['Total'], marker='^', linestyle='-', label='Mumbai')"
   ]
  },
  {
   "cell_type": "code",
   "execution_count": null,
   "id": "8edfd179-7b5c-4691-b98a-8a64d2b4fbf3",
   "metadata": {},
   "outputs": [],
   "source": [
    "plt.figure(figsize=(10,6))\n",
    "plt.grid(True, linestyle='--', alpha=0.6)"
   ]
  },
  {
   "cell_type": "code",
   "execution_count": null,
   "id": "634d8725-4a94-4f6f-8d03-f70315c0c193",
   "metadata": {},
   "outputs": [],
   "source": [
    "fig, ax1 = plt.subplots(figsize=(10,6))\n",
    "\n",
    "ax1.plot(seattle_yearly['Year'], seattle_yearly['PRCP'], marker='o', label='Seattle', color='blue')\n",
    "ax1.plot(stl_yearly['Year'], stl_yearly['PRCP'], marker='s', label='St. Louis', color='green')\n",
    "ax1.set_ylabel(\"Rainfall (inches) - Seattle & STL\", color=\"black\")\n",
    "\n",
    "ax2 = ax1.twinx()  # secondary y-axis\n",
    "ax2.plot(mumbai_yearly['Year'], mumbai_yearly['Total'], marker='^', color='red', label='Mumbai')\n",
    "ax2.set_ylabel(\"Rainfall (mm) - Mumbai\", color=\"red\")\n",
    "\n",
    "ax1.set_xlabel(\"Year\")\n",
    "ax1.set_title(\"Yearly Rainfall Comparison (2018–2022)\")\n",
    "\n",
    "ax1.grid(True, linestyle='--', alpha=0.6)\n",
    "\n",
    "# Legends for both axes\n",
    "ax1.legend(loc='upper left')\n",
    "ax2.legend(loc='upper right')\n",
    "\n",
    "plt.show()"
   ]
  },
  {
   "cell_type": "code",
   "execution_count": null,
   "id": "fa869930-3bab-4f05-b00c-b37eda0bbad3",
   "metadata": {},
   "outputs": [],
   "source": [
    "import matplotlib.pyplot as plt\n",
    "\n",
    "fig, ax1 = plt.subplots(figsize=(10,6))\n",
    "\n",
    "# Seattle + STL (left y-axis)\n",
    "ax1.plot(seattle_yearly['Year'], seattle_yearly['PRCP'], marker='o', linestyle='-', color='blue', label='Seattle')\n",
    "ax1.plot(stl_yearly['Year'], stl_yearly['PRCP'], marker='s', linestyle='--', color='green', label='St. Louis')\n",
    "ax1.set_ylabel(\"Rainfall (inches) - Seattle & STL\", color=\"black\")\n",
    "\n",
    "# Mumbai (right y-axis)\n",
    "ax2 = ax1.twinx()\n",
    "ax2.plot(mumbai_yearly['Year'], mumbai_yearly['Total'], marker='^', linestyle='-', color='red', label='Mumbai')\n",
    "ax2.set_ylabel(\"Rainfall (mm) - Mumbai\", color=\"red\")\n",
    "\n",
    "# Labels, title, grid\n",
    "ax1.set_xlabel(\"Year\")\n",
    "ax1.set_title(\"Yearly Rainfall Comparison (2018–2022)\")\n",
    "ax1.grid(True, linestyle='--', alpha=0.6)\n",
    "\n",
    "# Legends for both sides\n",
    "ax1.legend(loc='upper left')\n",
    "ax2.legend(loc='upper right')\n",
    "\n",
    "plt.show()"
   ]
  },
  {
   "cell_type": "code",
   "execution_count": null,
   "id": "70666f2f-e920-416f-bd39-ed72af5b07a4",
   "metadata": {},
   "outputs": [],
   "source": [
    "plt.figure(figsize=(10,6))\n",
    "\n",
    "plt.plot(seattle_yearly['Year'], (seattle_yearly['PRCP'] / seattle_yearly['PRCP'].max()) * 100,\n",
    "         marker='o', linestyle='-', label='Seattle')\n",
    "plt.plot(stl_yearly['Year'], (stl_yearly['PRCP'] / stl_yearly['PRCP'].max()) * 100,\n",
    "         marker='s', linestyle='--', label='St. Louis')\n",
    "plt.plot(mumbai_yearly['Year'], (mumbai_yearly['Total'] / mumbai_yearly['Total'].max()) * 100,\n",
    "         marker='^', linestyle='-', label='Mumbai')\n",
    "\n",
    "plt.xlabel(\"Year\")\n",
    "plt.ylabel(\"Rainfall (% of max)\")\n",
    "plt.title(\"Normalized Rainfall Comparison (2018–2022)\")\n",
    "plt.legend()\n",
    "plt.grid(True, linestyle='--', alpha=0.6)\n",
    "plt.xticks(seattle_yearly['Year'], rotation=45)\n",
    "plt.show()"
   ]
  },
  {
   "cell_type": "code",
   "execution_count": null,
   "id": "b040997b-1113-4401-b0ce-eb547077ed0e",
   "metadata": {},
   "outputs": [],
   "source": []
  }
 ],
 "metadata": {
  "kernelspec": {
   "display_name": "Python [conda env:base] *",
   "language": "python",
   "name": "conda-base-py"
  },
  "language_info": {
   "codemirror_mode": {
    "name": "ipython",
    "version": 3
   },
   "file_extension": ".py",
   "mimetype": "text/x-python",
   "name": "python",
   "nbconvert_exporter": "python",
   "pygments_lexer": "ipython3",
   "version": "3.12.7"
  }
 },
 "nbformat": 4,
 "nbformat_minor": 5
}
